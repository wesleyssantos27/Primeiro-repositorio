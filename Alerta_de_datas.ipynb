{
  "nbformat": 4,
  "nbformat_minor": 0,
  "metadata": {
    "colab": {
      "name": "Alerta de datas.ipynb",
      "provenance": [],
      "authorship_tag": "ABX9TyNcQlu1N+J53gzGqEIuX4B6",
      "include_colab_link": true
    },
    "kernelspec": {
      "name": "python3",
      "display_name": "Python 3"
    },
    "language_info": {
      "name": "python"
    }
  },
  "cells": [
    {
      "cell_type": "markdown",
      "metadata": {
        "id": "view-in-github",
        "colab_type": "text"
      },
      "source": [
        "<a href=\"https://colab.research.google.com/github/wesleyssantos27/Primeiro-repositorio/blob/master/Alerta_de_datas.ipynb\" target=\"_parent\"><img src=\"https://colab.research.google.com/assets/colab-badge.svg\" alt=\"Open In Colab\"/></a>"
      ]
    },
    {
      "cell_type": "code",
      "metadata": {
        "id": "ClkcCWYv8d2E"
      },
      "source": [
        "from google.colab import auth\n",
        "import pandas as pd\n",
        "from datetime import datetime\n",
        "\n",
        "auth.authenticate_user()\n",
        "\n",
        "import gspread\n",
        "from oauth2client.client import GoogleCredentials\n",
        "\n",
        "gc = gspread.authorize(GoogleCredentials.get_application_default())"
      ],
      "execution_count": 186,
      "outputs": []
    },
    {
      "cell_type": "code",
      "metadata": {
        "id": "om3jxN_09y3r"
      },
      "source": [
        "spreadsheet = gc.open('Datas')"
      ],
      "execution_count": 187,
      "outputs": []
    },
    {
      "cell_type": "code",
      "metadata": {
        "id": "PQey6qem-C0c"
      },
      "source": [
        "page = spreadsheet.sheet1"
      ],
      "execution_count": 188,
      "outputs": []
    },
    {
      "cell_type": "code",
      "metadata": {
        "colab": {
          "base_uri": "https://localhost:8080/"
        },
        "id": "x5oj13p_-M88",
        "outputId": "01acb3d9-df9f-4d00-a453-7baf121cf766"
      },
      "source": [
        "page.row_values(1)"
      ],
      "execution_count": 189,
      "outputs": [
        {
          "output_type": "execute_result",
          "data": {
            "text/plain": [
              "['Data', 'Evento']"
            ]
          },
          "metadata": {
            "tags": []
          },
          "execution_count": 189
        }
      ]
    },
    {
      "cell_type": "code",
      "metadata": {
        "colab": {
          "base_uri": "https://localhost:8080/",
          "height": 102
        },
        "id": "isnDnaiJ_KR8",
        "outputId": "3eaed397-efbd-45c8-f641-947af8613f5c"
      },
      "source": [
        "datas = pd.DataFrame(page.get_all_values())\n",
        "datas.columns = datas.iloc[0]\n",
        "datas = datas.drop(datas.index[0])\n",
        "datas['Data'] = pd.to_datetime(datas['Data'])\n",
        "display(datas['Data'])"
      ],
      "execution_count": 190,
      "outputs": [
        {
          "output_type": "display_data",
          "data": {
            "text/plain": [
              "1   2021-10-17\n",
              "2   2021-07-12\n",
              "3   2021-07-27\n",
              "4   2021-10-05\n",
              "Name: Data, dtype: datetime64[ns]"
            ]
          },
          "metadata": {
            "tags": []
          }
        }
      ]
    },
    {
      "cell_type": "code",
      "metadata": {
        "colab": {
          "base_uri": "https://localhost:8080/"
        },
        "id": "AX4FncZv_X1d",
        "outputId": "2a3a7cbc-cc14-4c48-c7c4-f7055a7ebecb"
      },
      "source": [
        "today = datetime.now()\n",
        "\n",
        "for data in datas['Data']:\n",
        "  print(data.day,'/',data.month)"
      ],
      "execution_count": 192,
      "outputs": [
        {
          "output_type": "stream",
          "text": [
            "17 / 10\n",
            "12 / 7\n",
            "27 / 7\n",
            "5 / 10\n"
          ],
          "name": "stdout"
        }
      ]
    },
    {
      "cell_type": "code",
      "metadata": {
        "colab": {
          "base_uri": "https://localhost:8080/"
        },
        "id": "Vq8TwW1MCWiI",
        "outputId": "e33f96b5-bebb-4766-a02c-7e6e7666da06"
      },
      "source": [
        "print(today.day)\n",
        "print(today.month)"
      ],
      "execution_count": 154,
      "outputs": [
        {
          "output_type": "stream",
          "text": [
            "10\n",
            "5\n"
          ],
          "name": "stdout"
        }
      ]
    }
  ]
}